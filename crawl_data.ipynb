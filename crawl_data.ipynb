{
 "cells": [
  {
   "cell_type": "markdown",
   "id": "5e7c4913-c82c-49da-94c6-4adeb058f0bb",
   "metadata": {},
   "source": [
    "# Thu thập dữ liệu"
   ]
  },
  {
   "cell_type": "markdown",
   "id": "69ac2a76-4001-4a26-ac3b-11b3041fc42e",
   "metadata": {},
   "source": [
    "##  Thu thập dữ liệu là gì ?"
   ]
  },
  {
   "cell_type": "markdown",
   "id": "f88d2393-b4de-459a-b9ca-7ba0cc9d936f",
   "metadata": {},
   "source": [
    "Thu thập dữ liệu từ một trang web, được gọi là web scraping, là quá trình tự động hóa việc thu thập thông tin từ các trang web và lưu trữ thông tin này trong một định dạng có thể sử dụng được như trong cơ sở dữ liệu hoặc tệp văn bản."
   ]
  },
  {
   "cell_type": "markdown",
   "id": "75969fe0-b60f-4c16-a5dd-6f2639d88706",
   "metadata": {},
   "source": [
    "## Các quy trình thu thập dữ liệu"
   ]
  },
  {
   "cell_type": "markdown",
   "id": "967b4d87-0526-45e7-b3f5-6443dd696cbb",
   "metadata": {},
   "source": [
    "- Truy xuất HTML của trang Web bạn muốn thu thập dữ liệu\n",
    "- Xác định dữ liệu bạn cần thu thập\n",
    "- Sử dụng kĩ thuật Web Scraping để trích xuất dữ liệu.\n"
   ]
  },
  {
   "cell_type": "markdown",
   "id": "2770e8e0-e0f9-4780-8753-e4af181aa857",
   "metadata": {},
   "source": [
    "## Ứng dụng của Web Scraping\n"
   ]
  },
  {
   "cell_type": "markdown",
   "id": "a060e4af-438f-4b99-9cab-dc402d90404b",
   "metadata": {},
   "source": [
    "- Nghiên cứu thị trường: Các doanh nghiệp thường sử dụng web scraping để thu thập thông tin về sản phẩm, giá cả, và phản hồi của khách hàng từ các trang web cạnh tranh.\n",
    "- Phân tích dữ liệu: Các nhà nghiên cứu và các công ty sử dụng web scraping để thu thập dữ liệu để phân tích xu hướng thị trường, dự báo kết quả kinh doanh, và tạo ra thông tin thị trường.\n",
    "- Quản lý dữ liệu: Web scraping cũng được sử dụng để tự động hóa quá trình thu thập dữ liệu từ nhiều nguồn khác nhau và cập nhật cơ sở dữ liệu."
   ]
  },
  {
   "cell_type": "markdown",
   "id": "2d69d981-3783-4eb5-a624-369a4de26719",
   "metadata": {},
   "source": [
    "## Ví dụ về Web Scraping"
   ]
  },
  {
   "cell_type": "markdown",
   "id": "72b155ae-52fe-46db-a0c9-d9048ab01759",
   "metadata": {},
   "source": [
    "Chúng ta sẽ thử thu thập dữ liệu sản phẩm của công ty Swe để phục vụ cho mục đích cá nhân của mình.Ở đây chúng ta sẽ lấy về thông tin tên và giá của sản phẩm . \n",
    "<center>\n",
    "    <img src=\"swe.png\" alt=\"Swe\" style=\"display:block; margin-left:auto; margin-right:auto; \">\n",
    "</center>\n",
    "Import thư viện:\n",
    "\n"
   ]
  },
  {
   "cell_type": "code",
   "execution_count": null,
   "id": "56159f5d-9ba9-42d2-9db7-a4b628fd50f3",
   "metadata": {},
   "outputs": [],
   "source": [
    "from itertools import zip_longest\n",
    "import pandas as pd\n",
    "import requests\n",
    "from bs4 import BeautifulSoup"
   ]
  },
  {
   "cell_type": "markdown",
   "id": "d73cb20f-7378-45e5-837f-68094d0b5dc2",
   "metadata": {},
   "source": [
    "Chương trình xử lí Web Scraping:"
   ]
  },
  {
   "cell_type": "code",
   "execution_count": null,
   "id": "65b94247-a909-47fc-84c2-a9d8c641c44e",
   "metadata": {},
   "outputs": [],
   "source": [
    "response = requests.get(\"https://swe.vn/collections/all?sort_by=best-selling\")\n",
    "\n",
    "soup = BeautifulSoup(response.content,'html.parser')\n",
    "pro_name = []\n",
    "pro_price = []\n",
    "pro_items = soup.findAll('div',class_='product-content')\n",
    "for pro in pro_items:\n",
    "    pro_name.append(pro.find('a').text.strip())\n",
    "    pro_price.append(pro.find('span',class_='regular-price').text.strip())"
   ]
  },
  {
   "cell_type": "markdown",
   "id": "5660d84c-67e7-4974-9449-566d3863f6f0",
   "metadata": {},
   "source": [
    "Lưu thông tin vào file:"
   ]
  },
  {
   "cell_type": "code",
   "execution_count": null,
   "id": "51505a07-3e6f-40cc-aa5f-a9533b560242",
   "metadata": {},
   "outputs": [],
   "source": [
    "data = list(zip_longest(pro_name,pro_price))\n",
    "pf = pd.DataFrame(data,columns=[\"Tên sản phầm\",\"Giá thành\"])\n",
    "pf.to_csv(\"Product.csv\",index=False)"
   ]
  }
 ],
 "metadata": {
  "kernelspec": {
   "display_name": "Python 3 (ipykernel)",
   "language": "python",
   "name": "python3"
  },
  "language_info": {
   "codemirror_mode": {
    "name": "ipython",
    "version": 3
   },
   "file_extension": ".py",
   "mimetype": "text/x-python",
   "name": "python",
   "nbconvert_exporter": "python",
   "pygments_lexer": "ipython3",
   "version": "3.9.6"
  }
 },
 "nbformat": 4,
 "nbformat_minor": 5
}
